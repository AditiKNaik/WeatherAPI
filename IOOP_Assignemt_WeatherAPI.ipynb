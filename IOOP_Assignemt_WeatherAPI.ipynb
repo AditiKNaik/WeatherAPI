{
  "nbformat": 4,
  "nbformat_minor": 0,
  "metadata": {
    "colab": {
      "name": "IOOP_Assignemt_WeatherAPI.ipynb",
      "provenance": [],
      "include_colab_link": true
    },
    "kernelspec": {
      "name": "python3",
      "display_name": "Python 3"
    },
    "language_info": {
      "name": "python"
    }
  },
  "cells": [
    {
      "cell_type": "markdown",
      "metadata": {
        "id": "view-in-github",
        "colab_type": "text"
      },
      "source": [
        "<a href=\"https://colab.research.google.com/github/AditiKNaik/WeatherAPI/blob/sourceCode/IOOP_Assignemt_WeatherAPI.ipynb\" target=\"_parent\"><img src=\"https://colab.research.google.com/assets/colab-badge.svg\" alt=\"Open In Colab\"/></a>"
      ]
    },
    {
      "cell_type": "markdown",
      "metadata": {
        "id": "Gx-tuwrspQ7E"
      },
      "source": [
        "# **Implementation**"
      ]
    },
    {
      "cell_type": "code",
      "metadata": {
        "id": "lDNc-x5UJOaR",
        "colab": {
          "base_uri": "https://localhost:8080/"
        },
        "outputId": "d5fa1795-3134-4003-8c9d-df0f060c86b4"
      },
      "source": [
        "\"\"\"\n",
        "This project demonstrates a linked list, a queue/list, and a simple sort.\n",
        "User enters in a zip code, which then makes an API call. Each attribute, such as\n",
        "temp, high temp, wind speed, etc., is a node within a linked list. Once the API call is\n",
        "done, it creates a linked list, which then appends each node to a queue. \n",
        "Then it deletes all the nodes so it doesn't add up and up when user continuously enters in zip. But, the previous \n",
        "city checked was stored in a queue, so no lost data.\n",
        "When the user decided to stop, it will prompt the user to search queue for city, sort queue based on city name,\n",
        "make more calls, or exit\n",
        "Here is the link to the API I used: https://openweathermap.org/current\n",
        "Anyone can sign up for a free account to obtain their API key.\n",
        "Then you can start making API calls!\n",
        "\"\"\"\n",
        "\n",
        "import requests\n",
        "# Class for Linked List\n",
        "class Node:\n",
        "    # default contructor for head, and next value\n",
        "    def _init_(self, data=None, next=None):\n",
        "        self.data = data\n",
        "        self.next = next\n",
        "\n",
        "\n",
        "# Class that will do API calls, appending queue with weather information,\n",
        "# sorting, printing, etc.\n",
        "class linkedList:\n",
        "    # default constructor\n",
        "    def _init_(self):\n",
        "        self.head = None\n",
        "        self.temp = 0\n",
        "        self.tempHigh = 0\n",
        "        self.tempLow = 0\n",
        "        self.humidity = 0\n",
        "        self.windSpeed = 0\n",
        "        self.cloudCover = 0\n",
        "        self.city = 'City'\n",
        "        self.country = ''\n",
        "        self.description = 'Clear Skies'\n",
        "        self.queue = []\n",
        "\n",
        "    # adds a new node\n",
        "    def append(self, data):\n",
        "        if not self.head:\n",
        "            self.head = Node(data=data)\n",
        "            return\n",
        "        current = self.head\n",
        "        while current.next:\n",
        "            current = current.next\n",
        "        current.next = Node(data=data)\n",
        "\n",
        "    \n",
        "\n",
        "\n",
        "# main\n",
        "if __name__ == '__main__':\n",
        "    # greet user\n",
        "    print('*** Check Weather Information ***')\n",
        "    # creates a linkedList object\n",
        "    llist = linkedList()"
      ],
      "execution_count": null,
      "outputs": [
        {
          "output_type": "stream",
          "text": [
            "*** Check Weather Information ***\n"
          ],
          "name": "stdout"
        }
      ]
    },
    {
      "cell_type": "code",
      "metadata": {
        "id": "cOgZnG7etf8n"
      },
      "source": [
        "# adds to the queue\n",
        "    def addToList(self,testInput=None,llist=None):\n",
        "      \n",
        "      if llist is not None:\n",
        "        llist.makeAPICall(llist,testInput)\n",
        "\n",
        "      current = self.head\n",
        "      weatherInfo = ''\n",
        "      while current:\n",
        "          weatherInfo += current.data\n",
        "          current = current.next\n",
        "      self.queue.append(weatherInfo)\n",
        "\n",
        "      # if testInput is not None:\n",
        "      #   return self.queue\n",
        "        \n",
        "\n",
        "    # finds a certain item within queue\n",
        "    def find(self, key):\n",
        "\n",
        "        print('\\n')\n",
        "        for itr in self.queue:\n",
        "            if key.title() in itr:\n",
        "                return itr\n",
        "        return \"Sorry, \" + key.title() + \" was not in the list. Perhaps you didn't check that city?\"\n",
        "    \n",
        "    # print list\n",
        "    def printList(self):\n",
        "        for itr in self.queue:\n",
        "            print(itr)\n",
        "\n",
        "    def removeCityFromQueue(self, cityName):\n",
        "        for itr in self.queue:\n",
        "            if cityName in itr:\n",
        "                self.queue.remove(itr)\n",
        "                return '\\n\\n' + cityName.title() + ' has been removed.'\n",
        "        return \"Sorry, \" + cityName.title() + \" was not in the list. Perhaps you didn't check that city?\"\n",
        "\n",
        "    def printCitiesChecked(self):\n",
        "        numberOfSpaces = 2\n",
        "        for itr in self.queue:\n",
        "            city = itr.split('  ')\n",
        "            ' '.join(city[:numberOfSpaces]), ' '.join(city[numberOfSpaces:])\n",
        "            print(city[0])\n",
        "\n",
        "\n",
        "    def sortAndPrintList(self):\n",
        "        print('\\n** Before Sort **')\n",
        "        self.printList()\n",
        "        self.queue.sort()\n",
        "        print('\\n** After Sort **')\n",
        "        self.printList()\n",
        "\n",
        "    # clears the linked list, so they don't add up and up every time a user\n",
        "    # enters in a zip code\n",
        "    def deleteExistingNodes(self):\n",
        "        # makes the head None\n",
        "        current = self.head = None\n",
        "        # iterates through each node to delete\n",
        "        while current:\n",
        "            del current.next.data\n",
        "            current = current.next\n",
        "    #mocking\n",
        "    def requesting_website(self, zipcode):\n",
        "      response = requests.get(f'http://api.openweathermap.org/data/2.5/weather?q={zipcode}&appid=0ae800efb0150c5ca36e8d10d4965268')\n",
        "      if response.ok:\n",
        "          return response.text\n",
        "      else:\n",
        "          return 'Bad Response!'"
      ],
      "execution_count": null,
      "outputs": []
    },
    {
      "cell_type": "markdown",
      "metadata": {
        "id": "cG66wJD2mpeT"
      },
      "source": [
        "# **Test Script**\n",
        "**1. whether a city is added to the queue or not**\n",
        "\n",
        "**2. To check the new city is added then the queue is updated or not**\n",
        "\n",
        "**3. To check find() function actually finds the required value or not**\n",
        "\n",
        "**4. To check city is removed or not**\n",
        "\n",
        "**5. To check whether the website responses or not**"
      ]
    },
    {
      "cell_type": "code",
      "metadata": {
        "id": "PNUW56xaJW4b"
      },
      "source": [
        "import unittest\n",
        "from unittest.mock import patch\n",
        "import requests\n",
        "\n",
        "class TestApi(unittest.TestCase):\n",
        "  # creates a linkedList object\n",
        "  def setUp(self):\n",
        "    self.llist = linkedList()\n",
        "    self.testInput = ''\n",
        "\n",
        "  def test_addList(self):\n",
        "    print('\\n'+'Test Adding to the queue')\n",
        "    self.testInput = '583103'\n",
        "    # calls the make API call function and passes the object in\n",
        "    self.llist.makeAPICall(self.llist,self.testInput)\n",
        "    self.assertEqual(len(self.llist.queue),1)\n",
        "  \n",
        "  def test_add_more(self):\n",
        "    print(\"Test Adding one more city to the queue\")\n",
        "    self.testInput = '580001'\n",
        "    self.llist.makeAPICall(self.llist,self.testInput)\n",
        "    self.assertEqual(len(self.llist.queue),1)\n",
        "    self.testInput = '580031'\n",
        "    self.llist.makeAPICall(self.llist,self.testInput)\n",
        "    self.assertEqual(len(self.llist.queue),2)\n",
        "\n",
        "\n",
        "if __name__ == '_main_':\n",
        "    unittest.main(argv=['first-arg-is-ignored'], exit=False)"
      ],
      "execution_count": null,
      "outputs": []
    }
  ]
}