{
  "nbformat": 4,
  "nbformat_minor": 0,
  "metadata": {
    "colab": {
      "name": "IOOP_Assignemt_WeatherAPI.ipynb",
      "provenance": [],
      "include_colab_link": true
    },
    "kernelspec": {
      "name": "python3",
      "display_name": "Python 3"
    },
    "language_info": {
      "name": "python"
    }
  },
  "cells": [
    {
      "cell_type": "markdown",
      "metadata": {
        "id": "view-in-github",
        "colab_type": "text"
      },
      "source": [
        "<a href=\"https://colab.research.google.com/github/vishalmeti8/WeatherAPI/blob/testScript/IOOP_Assignemt_WeatherAPI.ipynb\" target=\"_parent\"><img src=\"https://colab.research.google.com/assets/colab-badge.svg\" alt=\"Open In Colab\"/></a>"
      ]
    },
    {
      "cell_type": "markdown",
      "metadata": {
        "id": "Gx-tuwrspQ7E"
      },
      "source": [
        "# **Implementation**"
      ]
    },
    {
      "cell_type": "markdown",
      "metadata": {
        "id": "cG66wJD2mpeT"
      },
      "source": [
        "# **Test Script**"
      ]
    }
  ]
}